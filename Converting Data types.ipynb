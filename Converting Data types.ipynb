{
 "cells": [
  {
   "cell_type": "markdown",
   "id": "f098e304-55af-4ff0-814e-9342186d9899",
   "metadata": {},
   "source": [
    "# Converting Data Types"
   ]
  },
  {
   "cell_type": "code",
   "execution_count": 3,
   "id": "ec702ed4-8472-47fc-9133-d19c40127a97",
   "metadata": {},
   "outputs": [
    {
     "data": {
      "text/plain": [
       "int"
      ]
     },
     "execution_count": 3,
     "metadata": {},
     "output_type": "execute_result"
    }
   ],
   "source": [
    "num_int = 7\n",
    "type(num_int)"
   ]
  },
  {
   "cell_type": "code",
   "execution_count": 7,
   "id": "46cb2271-10eb-43f1-b5e6-4cad96a89030",
   "metadata": {},
   "outputs": [
    {
     "data": {
      "text/plain": [
       "str"
      ]
     },
     "execution_count": 7,
     "metadata": {},
     "output_type": "execute_result"
    }
   ],
   "source": [
    "num_string = '7'\n",
    "type(num_string)"
   ]
  },
  {
   "cell_type": "code",
   "execution_count": 10,
   "id": "2ecaccfe-fe53-4857-be3f-adb75c2f80a4",
   "metadata": {},
   "outputs": [],
   "source": [
    "num_str_conv = int(num_string)"
   ]
  },
  {
   "cell_type": "code",
   "execution_count": 16,
   "id": "f8d7ea06-b1e0-4f2f-814a-93e4a86c595d",
   "metadata": {},
   "outputs": [
    {
     "name": "stdout",
     "output_type": "stream",
     "text": [
      "14\n"
     ]
    }
   ],
   "source": [
    "num_sum = num_int + num_str_conv\n",
    "print(num_sum)"
   ]
  },
  {
   "cell_type": "code",
   "execution_count": 18,
   "id": "c94bc2ee-ef95-4277-a59d-3ab9a752d146",
   "metadata": {},
   "outputs": [],
   "source": [
    "list_type = [1,2,3]"
   ]
  },
  {
   "cell_type": "code",
   "execution_count": 20,
   "id": "34fd7a32-fbe9-4b82-9ba5-b5a421952bbb",
   "metadata": {},
   "outputs": [
    {
     "data": {
      "text/plain": [
       "list"
      ]
     },
     "execution_count": 20,
     "metadata": {},
     "output_type": "execute_result"
    }
   ],
   "source": [
    "type(list_type)"
   ]
  },
  {
   "cell_type": "code",
   "execution_count": 26,
   "id": "ba5f44f9-a693-4c64-a428-5c8ff2a17301",
   "metadata": {},
   "outputs": [
    {
     "data": {
      "text/plain": [
       "tuple"
      ]
     },
     "execution_count": 26,
     "metadata": {},
     "output_type": "execute_result"
    }
   ],
   "source": [
    "type(tuple(list_type))"
   ]
  },
  {
   "cell_type": "code",
   "execution_count": 28,
   "id": "214f36ff-528b-4d03-81e6-5b537b83e6c9",
   "metadata": {},
   "outputs": [],
   "source": [
    "list_type = [1,2,3,3,2,1,2,3,2,1]"
   ]
  },
  {
   "cell_type": "code",
   "execution_count": 30,
   "id": "50600a01-7ad2-4d6b-ae73-fbe1d4c28631",
   "metadata": {},
   "outputs": [
    {
     "data": {
      "text/plain": [
       "{1, 2, 3}"
      ]
     },
     "execution_count": 30,
     "metadata": {},
     "output_type": "execute_result"
    }
   ],
   "source": [
    "set(list_type)"
   ]
  },
  {
   "cell_type": "code",
   "execution_count": 32,
   "id": "504727d3-4e13-4c6b-af2f-ace2be00e739",
   "metadata": {},
   "outputs": [
    {
     "data": {
      "text/plain": [
       "set"
      ]
     },
     "execution_count": 32,
     "metadata": {},
     "output_type": "execute_result"
    }
   ],
   "source": [
    "type(set(list_type))"
   ]
  },
  {
   "cell_type": "code",
   "execution_count": 34,
   "id": "456e27d7-ad22-4ebf-b5e6-bec125eb423d",
   "metadata": {},
   "outputs": [],
   "source": [
    "dict_type = {'name':'alex', 'age': 28, 'hair':'N/A'}"
   ]
  },
  {
   "cell_type": "code",
   "execution_count": 36,
   "id": "e863c2b8-91f6-4038-bb2c-8dbd92f5a331",
   "metadata": {},
   "outputs": [
    {
     "data": {
      "text/plain": [
       "dict"
      ]
     },
     "execution_count": 36,
     "metadata": {},
     "output_type": "execute_result"
    }
   ],
   "source": [
    "type(dict_type)"
   ]
  },
  {
   "cell_type": "code",
   "execution_count": 38,
   "id": "9e2a7e23-695f-4e6c-865c-603039652dad",
   "metadata": {},
   "outputs": [
    {
     "data": {
      "text/plain": [
       "dict_items([('name', 'alex'), ('age', 28), ('hair', 'N/A')])"
      ]
     },
     "execution_count": 38,
     "metadata": {},
     "output_type": "execute_result"
    }
   ],
   "source": [
    "dict_type.items()"
   ]
  },
  {
   "cell_type": "code",
   "execution_count": 40,
   "id": "8daca096-824b-458a-8bbc-3a7bbd8fcaef",
   "metadata": {},
   "outputs": [
    {
     "data": {
      "text/plain": [
       "dict_values(['alex', 28, 'N/A'])"
      ]
     },
     "execution_count": 40,
     "metadata": {},
     "output_type": "execute_result"
    }
   ],
   "source": [
    "dict_type.values()"
   ]
  },
  {
   "cell_type": "code",
   "execution_count": 42,
   "id": "4b3f0008-0556-40f6-a607-d08822d55aa7",
   "metadata": {},
   "outputs": [
    {
     "data": {
      "text/plain": [
       "dict_keys(['name', 'age', 'hair'])"
      ]
     },
     "execution_count": 42,
     "metadata": {},
     "output_type": "execute_result"
    }
   ],
   "source": [
    "dict_type.keys()"
   ]
  },
  {
   "cell_type": "code",
   "execution_count": 44,
   "id": "931522ad-350f-4fef-b286-b7f9d2e680d7",
   "metadata": {},
   "outputs": [
    {
     "data": {
      "text/plain": [
       "['name', 'age', 'hair']"
      ]
     },
     "execution_count": 44,
     "metadata": {},
     "output_type": "execute_result"
    }
   ],
   "source": [
    "list(dict_type.keys())"
   ]
  },
  {
   "cell_type": "code",
   "execution_count": 46,
   "id": "1c15fac4-f81a-4626-afe3-e6a22e5ffcc1",
   "metadata": {},
   "outputs": [
    {
     "data": {
      "text/plain": [
       "['alex', 28, 'N/A']"
      ]
     },
     "execution_count": 46,
     "metadata": {},
     "output_type": "execute_result"
    }
   ],
   "source": [
    "list(dict_type.values())"
   ]
  },
  {
   "cell_type": "code",
   "execution_count": 48,
   "id": "09028981-17ce-4310-8e5a-d868461b87e2",
   "metadata": {},
   "outputs": [
    {
     "data": {
      "text/plain": [
       "['I', ' ', 'l', 'i', 'k', 'e', ' ', 't', 'o', ' ', 'p', 'a', 'r', 't', 'y']"
      ]
     },
     "execution_count": 48,
     "metadata": {},
     "output_type": "execute_result"
    }
   ],
   "source": [
    "long_str = 'I like to party'\n",
    "\n",
    "list(long_str)"
   ]
  },
  {
   "cell_type": "code",
   "execution_count": null,
   "id": "3390dfc4-fa23-4beb-bb25-735ef32406d3",
   "metadata": {},
   "outputs": [],
   "source": []
  }
 ],
 "metadata": {
  "kernelspec": {
   "display_name": "Python 3 (ipykernel)",
   "language": "python",
   "name": "python3"
  },
  "language_info": {
   "codemirror_mode": {
    "name": "ipython",
    "version": 3
   },
   "file_extension": ".py",
   "mimetype": "text/x-python",
   "name": "python",
   "nbconvert_exporter": "python",
   "pygments_lexer": "ipython3",
   "version": "3.12.7"
  }
 },
 "nbformat": 4,
 "nbformat_minor": 5
}
