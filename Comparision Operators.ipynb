{
 "cells": [
  {
   "cell_type": "markdown",
   "id": "55200e3a-faad-4923-ab0f-3af30efd8fff",
   "metadata": {},
   "source": [
    "# Comparision Operators"
   ]
  },
  {
   "cell_type": "markdown",
   "id": "6f3b669a-6189-49e9-83c9-04a6c0901b02",
   "metadata": {},
   "source": [
    "== Equal\n",
    "!= Not Equal\n",
    "> Greater than\n",
    "< Less than\n",
    ">= Greater than or equa to\n",
    "<= Less than or equal to"
   ]
  },
  {
   "cell_type": "code",
   "execution_count": 4,
   "id": "0dd7f1d2-7466-4d37-bfba-d7135ba874c3",
   "metadata": {},
   "outputs": [
    {
     "data": {
      "text/plain": [
       "True"
      ]
     },
     "execution_count": 4,
     "metadata": {},
     "output_type": "execute_result"
    }
   ],
   "source": [
    "10 == 10"
   ]
  },
  {
   "cell_type": "code",
   "execution_count": 6,
   "id": "8461bb04-8e0c-4346-80d1-eff21e56ee19",
   "metadata": {},
   "outputs": [
    {
     "data": {
      "text/plain": [
       "False"
      ]
     },
     "execution_count": 6,
     "metadata": {},
     "output_type": "execute_result"
    }
   ],
   "source": [
    "10 == 50"
   ]
  },
  {
   "cell_type": "code",
   "execution_count": 8,
   "id": "e445f5c1-4b3b-4745-810f-f52106619535",
   "metadata": {},
   "outputs": [
    {
     "data": {
      "text/plain": [
       "True"
      ]
     },
     "execution_count": 8,
     "metadata": {},
     "output_type": "execute_result"
    }
   ],
   "source": [
    "10 != 50"
   ]
  },
  {
   "cell_type": "code",
   "execution_count": 10,
   "id": "af0089a8-5f2b-4ea9-b619-a7750bc1e2c0",
   "metadata": {},
   "outputs": [
    {
     "data": {
      "text/plain": [
       "False"
      ]
     },
     "execution_count": 10,
     "metadata": {},
     "output_type": "execute_result"
    }
   ],
   "source": [
    "'Vanilla' == 'Chocolate'"
   ]
  },
  {
   "cell_type": "code",
   "execution_count": 12,
   "id": "8b69715f-704b-4471-af44-9af2a2172ef2",
   "metadata": {},
   "outputs": [
    {
     "data": {
      "text/plain": [
       "False"
      ]
     },
     "execution_count": 12,
     "metadata": {},
     "output_type": "execute_result"
    }
   ],
   "source": [
    "x = 'Vanilla'\n",
    "y = 'chocolate'\n",
    "\n",
    "x==y"
   ]
  },
  {
   "cell_type": "code",
   "execution_count": 14,
   "id": "ce96b8d4-4904-4c9c-b47e-27bfa03ebc74",
   "metadata": {},
   "outputs": [
    {
     "data": {
      "text/plain": [
       "True"
      ]
     },
     "execution_count": 14,
     "metadata": {},
     "output_type": "execute_result"
    }
   ],
   "source": [
    "x != y"
   ]
  },
  {
   "cell_type": "code",
   "execution_count": 16,
   "id": "7d5fd646-5882-4ca6-8403-940e58516ad1",
   "metadata": {},
   "outputs": [
    {
     "data": {
      "text/plain": [
       "True"
      ]
     },
     "execution_count": 16,
     "metadata": {},
     "output_type": "execute_result"
    }
   ],
   "source": [
    "10 <= 10"
   ]
  },
  {
   "cell_type": "code",
   "execution_count": 18,
   "id": "9215e04c-3889-4643-b27a-d67430d3d90a",
   "metadata": {},
   "outputs": [
    {
     "data": {
      "text/plain": [
       "True"
      ]
     },
     "execution_count": 18,
     "metadata": {},
     "output_type": "execute_result"
    }
   ],
   "source": [
    "10 >= 10"
   ]
  },
  {
   "cell_type": "markdown",
   "id": "f3fdbe5d-c129-4d5e-89ab-429f860d6045",
   "metadata": {},
   "source": [
    "and - Returns True if both the statements are true.\n",
    "or - Returns True if one of the statements are true.\n",
    "not - Reverse the result, returns False if the result is True."
   ]
  },
  {
   "cell_type": "code",
   "execution_count": 23,
   "id": "177ab116-3482-4309-942c-0adac47e7736",
   "metadata": {},
   "outputs": [
    {
     "data": {
      "text/plain": [
       "False"
      ]
     },
     "execution_count": 23,
     "metadata": {},
     "output_type": "execute_result"
    }
   ],
   "source": [
    "(10 > 50) and (50>10)"
   ]
  },
  {
   "cell_type": "code",
   "execution_count": 25,
   "id": "c5b20011-42bb-4cac-81f5-daa7800d3f08",
   "metadata": {},
   "outputs": [
    {
     "data": {
      "text/plain": [
       "True"
      ]
     },
     "execution_count": 25,
     "metadata": {},
     "output_type": "execute_result"
    }
   ],
   "source": [
    "(10 > 50) or (50>10)"
   ]
  },
  {
   "cell_type": "code",
   "execution_count": 29,
   "id": "cf90c31c-fbcb-436a-aa9c-ebdd523ea356",
   "metadata": {},
   "outputs": [
    {
     "data": {
      "text/plain": [
       "True"
      ]
     },
     "execution_count": 29,
     "metadata": {},
     "output_type": "execute_result"
    }
   ],
   "source": [
    "('Vanilla' > 'Chocolate') or (50>10)"
   ]
  },
  {
   "cell_type": "code",
   "execution_count": 31,
   "id": "237b77f2-35b7-4283-9a9c-e776e109db2b",
   "metadata": {},
   "outputs": [
    {
     "data": {
      "text/plain": [
       "True"
      ]
     },
     "execution_count": 31,
     "metadata": {},
     "output_type": "execute_result"
    }
   ],
   "source": [
    "('Vanilla' > 'Chocolate') and (50>10)"
   ]
  },
  {
   "cell_type": "code",
   "execution_count": 33,
   "id": "8c5bfa87-982b-4561-bce7-d2f5c27c8ef4",
   "metadata": {},
   "outputs": [
    {
     "data": {
      "text/plain": [
       "False"
      ]
     },
     "execution_count": 33,
     "metadata": {},
     "output_type": "execute_result"
    }
   ],
   "source": [
    "not(50>10)"
   ]
  },
  {
   "cell_type": "markdown",
   "id": "fbf5810c-6d60-46a4-b926-677afa96fea1",
   "metadata": {},
   "source": [
    "#Membership Operators\n",
    "\n",
    "in - Returns True if a sequence with the specefied value is present in the object.\n",
    "not in - Returns True if a swequence with the specified value is not present in the object."
   ]
  },
  {
   "cell_type": "code",
   "execution_count": 37,
   "id": "dababdf5-8250-4be5-bceb-676f9a459c71",
   "metadata": {},
   "outputs": [
    {
     "data": {
      "text/plain": [
       "True"
      ]
     },
     "execution_count": 37,
     "metadata": {},
     "output_type": "execute_result"
    }
   ],
   "source": [
    "ice_cream = 'I love chocolate ice cream'\n",
    "'love' in ice_cream"
   ]
  },
  {
   "cell_type": "code",
   "execution_count": 41,
   "id": "2a99fde7-b827-4f19-856c-c2ee1bc3ab8c",
   "metadata": {},
   "outputs": [
    {
     "data": {
      "text/plain": [
       "False"
      ]
     },
     "execution_count": 41,
     "metadata": {},
     "output_type": "execute_result"
    }
   ],
   "source": [
    "scoops = [1,2,3,4,5]\n",
    "wanted_scoops = 8\n",
    "6 in scoops"
   ]
  },
  {
   "cell_type": "code",
   "execution_count": 43,
   "id": "6e10d9cd-dcbc-41f8-95be-f958bfdc0177",
   "metadata": {},
   "outputs": [
    {
     "data": {
      "text/plain": [
       "True"
      ]
     },
     "execution_count": 43,
     "metadata": {},
     "output_type": "execute_result"
    }
   ],
   "source": [
    "6 not in scoops"
   ]
  },
  {
   "cell_type": "code",
   "execution_count": 45,
   "id": "d5a79801-d877-4e9a-b8d1-7841012ad82f",
   "metadata": {},
   "outputs": [
    {
     "data": {
      "text/plain": [
       "True"
      ]
     },
     "execution_count": 45,
     "metadata": {},
     "output_type": "execute_result"
    }
   ],
   "source": [
    "scoops = [1,2,3,4,5]\n",
    "wanted_scoops = 8\n",
    "wanted_scoops not in scoops"
   ]
  },
  {
   "cell_type": "code",
   "execution_count": null,
   "id": "6f90b913-6231-46de-8be4-f0de61d9f70d",
   "metadata": {},
   "outputs": [],
   "source": []
  },
  {
   "cell_type": "code",
   "execution_count": null,
   "id": "58fb90b0-4dc5-4fd7-abd7-8598d414e3bf",
   "metadata": {},
   "outputs": [],
   "source": []
  }
 ],
 "metadata": {
  "kernelspec": {
   "display_name": "Python 3 (ipykernel)",
   "language": "python",
   "name": "python3"
  },
  "language_info": {
   "codemirror_mode": {
    "name": "ipython",
    "version": 3
   },
   "file_extension": ".py",
   "mimetype": "text/x-python",
   "name": "python",
   "nbconvert_exporter": "python",
   "pygments_lexer": "ipython3",
   "version": "3.12.7"
  }
 },
 "nbformat": 4,
 "nbformat_minor": 5
}
