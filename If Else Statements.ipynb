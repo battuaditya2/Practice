{
 "cells": [
  {
   "cell_type": "code",
   "execution_count": 2,
   "id": "a4a3d4b1-fb2b-4829-83d8-2a49637c696f",
   "metadata": {},
   "outputs": [
    {
     "name": "stdout",
     "output_type": "stream",
     "text": [
      "It worked\n"
     ]
    }
   ],
   "source": [
    "if 25 > 10: \n",
    "    print('It worked')"
   ]
  },
  {
   "cell_type": "code",
   "execution_count": 8,
   "id": "7a300de1-762e-4c9f-89e9-5a96f988cfe9",
   "metadata": {},
   "outputs": [
    {
     "name": "stdout",
     "output_type": "stream",
     "text": [
      "It worked\n"
     ]
    }
   ],
   "source": [
    "if 25 > 10: \n",
    "    print('It worked')\n",
    "else:\n",
    "    print('It did not work...')"
   ]
  },
  {
   "cell_type": "code",
   "execution_count": 10,
   "id": "eed8b7ea-7b72-4e22-8856-4dffe8de3472",
   "metadata": {},
   "outputs": [
    {
     "name": "stdout",
     "output_type": "stream",
     "text": [
      "Elif Worked\n"
     ]
    }
   ],
   "source": [
    "if 25 < 10: \n",
    "    print('It worked')\n",
    "elif 25 < 30:\n",
    "    print('Elif Worked')\n",
    "else:\n",
    "    print('It did not work...')"
   ]
  },
  {
   "cell_type": "code",
   "execution_count": 14,
   "id": "71c17a5b-73d3-4d81-9d20-2ce861f63fd6",
   "metadata": {},
   "outputs": [
    {
     "name": "stdout",
     "output_type": "stream",
     "text": [
      "Elif 3 Worked\n"
     ]
    }
   ],
   "source": [
    "if 25 < 10: \n",
    "    print('It worked')\n",
    "elif 25 < 20:\n",
    "    print('Elif Worked')\n",
    "elif 25 < 21:\n",
    "    print('Elif 2 Worked')\n",
    "elif 25 < 40:\n",
    "    print('Elif 3 Worked')\n",
    "elif 25 < 50:\n",
    "    print('Elif 4 Worked')\n",
    "else:\n",
    "    print('It did not work...')"
   ]
  },
  {
   "cell_type": "code",
   "execution_count": 18,
   "id": "71519fad-203d-4e7d-b868-036176d0f27d",
   "metadata": {},
   "outputs": [
    {
     "name": "stdout",
     "output_type": "stream",
     "text": [
      "It worked\n"
     ]
    }
   ],
   "source": [
    "if 25 < 10 or (1<3):\n",
    "    print('It worked')\n",
    "elif 25 < 20:\n",
    "    print('Elif Worked')\n",
    "elif 25 < 21:\n",
    "    print('Elif 2 Worked')\n",
    "elif 25 < 40:\n",
    "    print('Elif 3 Worked')\n",
    "elif 25 < 50:\n",
    "    print('Elif 4 Worked')\n",
    "else:\n",
    "    print('It did not work...')"
   ]
  },
  {
   "cell_type": "code",
   "execution_count": 20,
   "id": "0917419c-1949-417e-995b-af6fb2fb5e05",
   "metadata": {},
   "outputs": [
    {
     "name": "stdout",
     "output_type": "stream",
     "text": [
      "It did not work...\n"
     ]
    }
   ],
   "source": [
    "print('It worked') if 10 > 30 else print('It did not work...')"
   ]
  },
  {
   "cell_type": "code",
   "execution_count": 22,
   "id": "e4d4b084-4f43-4395-b9e7-27b4f9c6f8ca",
   "metadata": {},
   "outputs": [
    {
     "name": "stdout",
     "output_type": "stream",
     "text": [
      "It worked\n",
      "This nested if statement worked!\n"
     ]
    }
   ],
   "source": [
    "if 25 < 10 or (1<3):\n",
    "    print('It worked')\n",
    "    if 10 > 5:\n",
    "        print('This nested if statement worked!')\n",
    "elif 25 < 20:\n",
    "    print('Elif Worked')\n",
    "elif 25 < 21:\n",
    "    print('Elif 2 Worked')\n",
    "elif 25 < 40:\n",
    "    print('Elif 3 Worked')\n",
    "elif 25 < 50:\n",
    "    print('Elif 4 Worked')\n",
    "else:\n",
    "    print('It did not work...')"
   ]
  },
  {
   "cell_type": "code",
   "execution_count": null,
   "id": "38d2d250-a091-49fd-9336-becd9372904b",
   "metadata": {},
   "outputs": [],
   "source": []
  },
  {
   "cell_type": "code",
   "execution_count": null,
   "id": "907677ac-b2d7-47e2-9610-a48ece702947",
   "metadata": {},
   "outputs": [],
   "source": []
  },
  {
   "cell_type": "code",
   "execution_count": null,
   "id": "ed45d947-a775-4c82-a4a5-e11a409e2a10",
   "metadata": {},
   "outputs": [],
   "source": []
  }
 ],
 "metadata": {
  "kernelspec": {
   "display_name": "Python 3 (ipykernel)",
   "language": "python",
   "name": "python3"
  },
  "language_info": {
   "codemirror_mode": {
    "name": "ipython",
    "version": 3
   },
   "file_extension": ".py",
   "mimetype": "text/x-python",
   "name": "python",
   "nbconvert_exporter": "python",
   "pygments_lexer": "ipython3",
   "version": "3.12.7"
  }
 },
 "nbformat": 4,
 "nbformat_minor": 5
}
