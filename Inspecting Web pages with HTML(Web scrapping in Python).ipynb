{
 "cells": [
  {
   "cell_type": "markdown",
   "id": "0d05ce30-f928-4178-9d9f-72e658a7b8c4",
   "metadata": {},
   "source": [
    "# Web scrapping in python\n",
    "\n",
    "https://www.scrapethissite.com/pages/forms/"
   ]
  },
  {
   "cell_type": "code",
   "execution_count": 5,
   "id": "fb76f8b4-a91f-433a-b474-73dabdad138e",
   "metadata": {},
   "outputs": [],
   "source": [
    "# Here we learned about how to inspect the webpage and see where the data is located."
   ]
  },
  {
   "cell_type": "code",
   "execution_count": null,
   "id": "e1813f8f-7f8a-470a-8457-918e70ade4dd",
   "metadata": {},
   "outputs": [],
   "source": []
  }
 ],
 "metadata": {
  "kernelspec": {
   "display_name": "Python 3 (ipykernel)",
   "language": "python",
   "name": "python3"
  },
  "language_info": {
   "codemirror_mode": {
    "name": "ipython",
    "version": 3
   },
   "file_extension": ".py",
   "mimetype": "text/x-python",
   "name": "python",
   "nbconvert_exporter": "python",
   "pygments_lexer": "ipython3",
   "version": "3.12.7"
  }
 },
 "nbformat": 4,
 "nbformat_minor": 5
}
