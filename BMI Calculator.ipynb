{
 "cells": [
  {
   "cell_type": "markdown",
   "id": "6f733fab-1b91-4337-ba4e-98466894168e",
   "metadata": {},
   "source": [
    "# BMI Calculator"
   ]
  },
  {
   "cell_type": "code",
   "execution_count": 3,
   "id": "a95c8d38-b1aa-4669-8b64-608f221746d6",
   "metadata": {},
   "outputs": [],
   "source": [
    "# BMI = (weight in pounds * 703) / ( height in inches * height in inches)"
   ]
  },
  {
   "cell_type": "code",
   "execution_count": 25,
   "id": "a26038ee-ae83-4dc6-b6dd-e5df21f2bab9",
   "metadata": {},
   "outputs": [
    {
     "name": "stdin",
     "output_type": "stream",
     "text": [
      "Enter your name Aditya\n",
      "Enter your weight in pounds:  170\n",
      "Enter your height in inches:  69\n"
     ]
    },
    {
     "name": "stdout",
     "output_type": "stream",
     "text": [
      "Your BMI is:  25.101869355177485\n",
      "Aditya,You are overweight\n"
     ]
    }
   ],
   "source": [
    "name = input('Enter your name')\n",
    "weight = int(input('Enter your weight in pounds: '))\n",
    "height = int(input('Enter your height in inches: '))\n",
    "BMI = (weight * 703) / (height * height)\n",
    "print('Your BMI is: ',  BMI)\n",
    "if BMI > 0:\n",
    "    if(BMI<18.5):\n",
    "        print(name +', You are underweight')\n",
    "    elif(BMI<=24.9):\n",
    "        print(name +',You are normal weight')\n",
    "    elif(BMI<29.8):\n",
    "        print(name +',You are overweight')\n",
    "    elif(BMI<34.9):\n",
    "        print(name +',You are obese')\n",
    "    elif(BMI<39.9):\n",
    "        print(name +',You are severly obese')\n",
    "    else:\n",
    "        print(name +',You are morbidly obese')\n",
    "else:\n",
    "    ('Enter valid input')"
   ]
  },
  {
   "cell_type": "code",
   "execution_count": null,
   "id": "882bc255-ec88-47ca-b01a-02e99054b7fb",
   "metadata": {},
   "outputs": [],
   "source": []
  }
 ],
 "metadata": {
  "kernelspec": {
   "display_name": "Python 3 (ipykernel)",
   "language": "python",
   "name": "python3"
  },
  "language_info": {
   "codemirror_mode": {
    "name": "ipython",
    "version": 3
   },
   "file_extension": ".py",
   "mimetype": "text/x-python",
   "name": "python",
   "nbconvert_exporter": "python",
   "pygments_lexer": "ipython3",
   "version": "3.12.7"
  }
 },
 "nbformat": 4,
 "nbformat_minor": 5
}
