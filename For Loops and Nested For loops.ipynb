{
 "cells": [
  {
   "cell_type": "markdown",
   "id": "2a1ba713-d6f4-4bd3-8949-2805fcd31846",
   "metadata": {},
   "source": [
    "# For Loops"
   ]
  },
  {
   "cell_type": "code",
   "execution_count": 4,
   "id": "3fce0757-833e-4913-80ed-d0c852a5f75b",
   "metadata": {},
   "outputs": [],
   "source": [
    "integers = [1,2,3,4,5]"
   ]
  },
  {
   "cell_type": "code",
   "execution_count": 6,
   "id": "b7378071-59a6-4f65-b8ae-50d0c1187cd7",
   "metadata": {},
   "outputs": [
    {
     "name": "stdout",
     "output_type": "stream",
     "text": [
      "1\n",
      "2\n",
      "3\n",
      "4\n",
      "5\n"
     ]
    }
   ],
   "source": [
    "for number in integers:\n",
    "    print(number)"
   ]
  },
  {
   "cell_type": "code",
   "execution_count": 8,
   "id": "5114ace4-945c-48d8-9978-818729a1258e",
   "metadata": {},
   "outputs": [
    {
     "name": "stdout",
     "output_type": "stream",
     "text": [
      "Yep!\n",
      "Yep!\n",
      "Yep!\n",
      "Yep!\n",
      "Yep!\n"
     ]
    }
   ],
   "source": [
    "for number in integers:\n",
    "    print('Yep!')"
   ]
  },
  {
   "cell_type": "code",
   "execution_count": 10,
   "id": "8bc54c67-ed99-4b59-9efa-34c930e2cd67",
   "metadata": {},
   "outputs": [
    {
     "name": "stdout",
     "output_type": "stream",
     "text": [
      "2\n",
      "4\n",
      "6\n",
      "8\n",
      "10\n"
     ]
    }
   ],
   "source": [
    "integers = [1,2,3,4,5]\n",
    "for jelly in integers:\n",
    "    print(jelly + jelly)"
   ]
  },
  {
   "cell_type": "code",
   "execution_count": 12,
   "id": "0edc5b45-6c4a-4e1e-8f1d-5629a329881c",
   "metadata": {},
   "outputs": [],
   "source": [
    "ice_cream_dict = {'name':'Alex Freeberg','weekly intake': 5, 'favorite ice cream': ['mcc','chocolate']}"
   ]
  },
  {
   "cell_type": "code",
   "execution_count": 14,
   "id": "0abf592d-59ad-4113-b140-cecb456fab6e",
   "metadata": {},
   "outputs": [
    {
     "name": "stdout",
     "output_type": "stream",
     "text": [
      "Alex Freeberg\n",
      "5\n",
      "['mcc', 'chocolate']\n"
     ]
    }
   ],
   "source": [
    "for cream in ice_cream_dict.values():\n",
    "    print(cream)"
   ]
  },
  {
   "cell_type": "code",
   "execution_count": 19,
   "id": "15d46456-caf2-4aa6-adfa-c88da0616007",
   "metadata": {},
   "outputs": [
    {
     "name": "stdout",
     "output_type": "stream",
     "text": [
      "name > Alex Freeberg\n",
      "weekly intake > 5\n",
      "favorite ice cream > ['mcc', 'chocolate']\n"
     ]
    }
   ],
   "source": [
    "for key, value in ice_cream_dict.items():\n",
    "    print(key, '>', value)"
   ]
  },
  {
   "cell_type": "markdown",
   "id": "64ca8c12-5973-45d0-a476-2d1e01e4142d",
   "metadata": {},
   "source": [
    "# Nested For Loops"
   ]
  },
  {
   "cell_type": "code",
   "execution_count": 22,
   "id": "d2d8ec44-29f3-4f14-a1a0-53d075d61105",
   "metadata": {},
   "outputs": [],
   "source": [
    "flavors = ['Vanilla','Chocolate','Cookie Dough']\n",
    "toppings = ['Hot Fudge','Oreos','Marshmellows']"
   ]
  },
  {
   "cell_type": "code",
   "execution_count": 24,
   "id": "8c3c8ab1-6522-4fe1-a763-ce9cf9cc5b37",
   "metadata": {},
   "outputs": [
    {
     "name": "stdout",
     "output_type": "stream",
     "text": [
      "Vanilla topped with Hot Fudge\n",
      "Vanilla topped with Oreos\n",
      "Vanilla topped with Marshmellows\n",
      "Chocolate topped with Hot Fudge\n",
      "Chocolate topped with Oreos\n",
      "Chocolate topped with Marshmellows\n",
      "Cookie Dough topped with Hot Fudge\n",
      "Cookie Dough topped with Oreos\n",
      "Cookie Dough topped with Marshmellows\n"
     ]
    }
   ],
   "source": [
    "for one in flavors:\n",
    "    for two in toppings:\n",
    "        print(one, 'topped with', two)"
   ]
  },
  {
   "cell_type": "code",
   "execution_count": null,
   "id": "24960379-8aa6-4bed-9bb9-699dc9afa8d3",
   "metadata": {},
   "outputs": [],
   "source": []
  },
  {
   "cell_type": "code",
   "execution_count": null,
   "id": "195bcb64-8df3-4e5c-8aea-726cb2eacc68",
   "metadata": {},
   "outputs": [],
   "source": []
  },
  {
   "cell_type": "code",
   "execution_count": null,
   "id": "e1ba8490-8ac1-4a20-b9df-b2ab65cbc406",
   "metadata": {},
   "outputs": [],
   "source": []
  },
  {
   "cell_type": "code",
   "execution_count": null,
   "id": "0084df60-6c83-4543-9052-9c5e960ba8e9",
   "metadata": {},
   "outputs": [],
   "source": []
  }
 ],
 "metadata": {
  "kernelspec": {
   "display_name": "Python 3 (ipykernel)",
   "language": "python",
   "name": "python3"
  },
  "language_info": {
   "codemirror_mode": {
    "name": "ipython",
    "version": 3
   },
   "file_extension": ".py",
   "mimetype": "text/x-python",
   "name": "python",
   "nbconvert_exporter": "python",
   "pygments_lexer": "ipython3",
   "version": "3.12.7"
  }
 },
 "nbformat": 4,
 "nbformat_minor": 5
}
