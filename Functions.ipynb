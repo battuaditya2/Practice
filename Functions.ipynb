{
 "cells": [
  {
   "cell_type": "markdown",
   "id": "80caf841-7725-4456-9320-1107a6259f4c",
   "metadata": {},
   "source": [
    "# Functions"
   ]
  },
  {
   "cell_type": "code",
   "execution_count": 3,
   "id": "027a620b-1645-47e5-99ed-fcc0e5c81d35",
   "metadata": {},
   "outputs": [],
   "source": [
    "def first_func():\n",
    "    print('We did it')"
   ]
  },
  {
   "cell_type": "code",
   "execution_count": 9,
   "id": "3ae4a331-03e0-429f-ac1b-00b82d4ed7a8",
   "metadata": {},
   "outputs": [
    {
     "name": "stdout",
     "output_type": "stream",
     "text": [
      "We did it\n"
     ]
    }
   ],
   "source": [
    "first_func()"
   ]
  },
  {
   "cell_type": "code",
   "execution_count": 11,
   "id": "8b35415c-e1d9-474d-9096-b3dab7db8bd4",
   "metadata": {},
   "outputs": [],
   "source": [
    "def number_squared(number):\n",
    "    print(number**2)\n",
    "    "
   ]
  },
  {
   "cell_type": "code",
   "execution_count": 13,
   "id": "f3229c15-f703-4bdb-8e55-285d508402b6",
   "metadata": {},
   "outputs": [
    {
     "name": "stdout",
     "output_type": "stream",
     "text": [
      "25\n"
     ]
    }
   ],
   "source": [
    "number_squared(5)"
   ]
  },
  {
   "cell_type": "code",
   "execution_count": 15,
   "id": "c6289c04-5293-43c6-9493-944f15dd5ab4",
   "metadata": {},
   "outputs": [],
   "source": [
    "def number_squared_custom(number,power):\n",
    "    print(number**power)\n"
   ]
  },
  {
   "cell_type": "code",
   "execution_count": 17,
   "id": "4ab17114-2b88-4cb7-b941-614dfdc363f0",
   "metadata": {},
   "outputs": [
    {
     "name": "stdout",
     "output_type": "stream",
     "text": [
      "125\n"
     ]
    }
   ],
   "source": [
    "number_squared_custom(5,3)"
   ]
  },
  {
   "cell_type": "code",
   "execution_count": 27,
   "id": "fb13ac67-e623-4fea-b44e-84e0f7f6cc92",
   "metadata": {},
   "outputs": [],
   "source": [
    "# Arbitrary arguments\n",
    "\n",
    "args_tuple = (5,6,1,2,8)\n",
    "\n",
    "def number_args(*number):\n",
    "    print(number[0]*number[1])\n",
    "    "
   ]
  },
  {
   "cell_type": "code",
   "execution_count": 31,
   "id": "841368ed-9762-46c0-b655-1ac8280f8d90",
   "metadata": {},
   "outputs": [
    {
     "name": "stdout",
     "output_type": "stream",
     "text": [
      "30\n"
     ]
    }
   ],
   "source": [
    "number_args(*args_tuple)"
   ]
  },
  {
   "cell_type": "code",
   "execution_count": 33,
   "id": "cdc9705b-72bf-469c-89f5-af82a697cf66",
   "metadata": {},
   "outputs": [],
   "source": [
    "# Keyword arguments and arbitrary keyword arguments\n",
    "\n",
    "def number_squared_custom(number,power):\n",
    "    print(number**power)"
   ]
  },
  {
   "cell_type": "code",
   "execution_count": 37,
   "id": "5a93768c-4042-41e9-b979-f7046798d57e",
   "metadata": {},
   "outputs": [
    {
     "name": "stdout",
     "output_type": "stream",
     "text": [
      "243\n"
     ]
    }
   ],
   "source": [
    "number_squared_custom(power = 5, number = 3) #Keyword argument"
   ]
  },
  {
   "cell_type": "code",
   "execution_count": 59,
   "id": "ee5c48a8-6b7b-4d22-b2ce-0a26a3664562",
   "metadata": {},
   "outputs": [],
   "source": [
    "def number_kwarg(**number):\n",
    "    print('My number is: ' + number['integer'] + 'My other number: ' +  number['integer2'])"
   ]
  },
  {
   "cell_type": "code",
   "execution_count": 61,
   "id": "9f82bb91-595c-41d1-8266-1128a5a07f63",
   "metadata": {},
   "outputs": [
    {
     "name": "stdout",
     "output_type": "stream",
     "text": [
      "My number is: 2309My other number: 349\n"
     ]
    }
   ],
   "source": [
    "number_kwarg(integer = '2309', integer2 = '349')"
   ]
  },
  {
   "cell_type": "code",
   "execution_count": null,
   "id": "958f65ea-f0c9-458f-b719-b9d914d3aa3d",
   "metadata": {},
   "outputs": [],
   "source": []
  }
 ],
 "metadata": {
  "kernelspec": {
   "display_name": "Python 3 (ipykernel)",
   "language": "python",
   "name": "python3"
  },
  "language_info": {
   "codemirror_mode": {
    "name": "ipython",
    "version": 3
   },
   "file_extension": ".py",
   "mimetype": "text/x-python",
   "name": "python",
   "nbconvert_exporter": "python",
   "pygments_lexer": "ipython3",
   "version": "3.12.7"
  }
 },
 "nbformat": 4,
 "nbformat_minor": 5
}
