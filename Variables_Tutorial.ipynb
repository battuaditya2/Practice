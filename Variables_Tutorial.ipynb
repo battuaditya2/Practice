{
 "cells": [
  {
   "cell_type": "markdown",
   "id": "a071df3a-8886-4ac7-962d-cbf28f813ecd",
   "metadata": {},
   "source": [
    "# Variable in Python"
   ]
  },
  {
   "cell_type": "code",
   "execution_count": 5,
   "id": "2c04be9d-6ce0-41b4-85ff-1f7408eaaccc",
   "metadata": {},
   "outputs": [
    {
     "name": "stdout",
     "output_type": "stream",
     "text": [
      "22\n"
     ]
    }
   ],
   "source": [
    "x = 22\n",
    "\n",
    "print(x)"
   ]
  },
  {
   "cell_type": "code",
   "execution_count": 7,
   "id": "b3b89358-065e-4a46-865f-4b3eed3fc129",
   "metadata": {},
   "outputs": [
    {
     "data": {
      "text/plain": [
       "int"
      ]
     },
     "execution_count": 7,
     "metadata": {},
     "output_type": "execute_result"
    }
   ],
   "source": [
    "type(x)"
   ]
  },
  {
   "cell_type": "code",
   "execution_count": 9,
   "id": "15ee5167-658a-48ce-bea8-ce8ff64d1c30",
   "metadata": {},
   "outputs": [
    {
     "name": "stdout",
     "output_type": "stream",
     "text": [
      "Mint Chocolate Chip\n"
     ]
    }
   ],
   "source": [
    "y = 'Mint Chocolate Chip'\n",
    "\n",
    "print(y)"
   ]
  },
  {
   "cell_type": "code",
   "execution_count": 11,
   "id": "132a3605-2cbd-49b6-be5d-11e2758523a0",
   "metadata": {},
   "outputs": [
    {
     "data": {
      "text/plain": [
       "str"
      ]
     },
     "execution_count": 11,
     "metadata": {},
     "output_type": "execute_result"
    }
   ],
   "source": [
    "type(y)"
   ]
  },
  {
   "cell_type": "code",
   "execution_count": 15,
   "id": "d616788d-2612-45cd-8655-95e8088157be",
   "metadata": {},
   "outputs": [
    {
     "name": "stdout",
     "output_type": "stream",
     "text": [
      "chocolate\n"
     ]
    }
   ],
   "source": [
    "y = 'chocolate'\n",
    "\n",
    "print(y)"
   ]
  },
  {
   "cell_type": "code",
   "execution_count": 17,
   "id": "48ecd98c-8503-4b6a-b09a-1ecb35b6351d",
   "metadata": {},
   "outputs": [],
   "source": [
    "x,y,z = 'chocolate','Vanilla','Rocky Road'"
   ]
  },
  {
   "cell_type": "code",
   "execution_count": 19,
   "id": "4bb27507-8a65-4b41-a601-2563dabf83f3",
   "metadata": {},
   "outputs": [
    {
     "name": "stdout",
     "output_type": "stream",
     "text": [
      "chocolate\n",
      "Vanilla\n",
      "Rocky Road\n"
     ]
    }
   ],
   "source": [
    "print(x)\n",
    "print(y)\n",
    "print(z)"
   ]
  },
  {
   "cell_type": "code",
   "execution_count": 21,
   "id": "ce5c43b7-e6d1-44cc-a39c-dc0e5adaf1f5",
   "metadata": {},
   "outputs": [],
   "source": [
    "x = y = z = 'Root Beer Float'"
   ]
  },
  {
   "cell_type": "code",
   "execution_count": 23,
   "id": "f8181984-4440-4165-9522-bb46f92364df",
   "metadata": {},
   "outputs": [
    {
     "name": "stdout",
     "output_type": "stream",
     "text": [
      "Root Beer Float\n",
      "Root Beer Float\n",
      "Root Beer Float\n"
     ]
    }
   ],
   "source": [
    "print(x)\n",
    "print(y)\n",
    "print(z)"
   ]
  },
  {
   "cell_type": "code",
   "execution_count": 27,
   "id": "552a0ca3-b611-49de-8ded-5e9dc5f95ae1",
   "metadata": {},
   "outputs": [
    {
     "name": "stdout",
     "output_type": "stream",
     "text": [
      "chocolate\n",
      "Vanilla\n",
      "Rocky Road\n"
     ]
    }
   ],
   "source": [
    "ice_cream = ['chocolate','Vanilla','Rocky Road']\n",
    "x,y,z = ice_cream\n",
    "print(x)\n",
    "print(y)\n",
    "print(z)"
   ]
  },
  {
   "cell_type": "code",
   "execution_count": 29,
   "id": "6994b2d5-b60d-45f3-bc4d-a4a42fac68d3",
   "metadata": {},
   "outputs": [],
   "source": [
    "# Camel Case\n",
    "# Test Variable Case\n",
    "testVariableCase = 'Vanilla Swirl'"
   ]
  },
  {
   "cell_type": "code",
   "execution_count": 35,
   "id": "37b1c10b-d959-49ca-84af-1d946d0b3124",
   "metadata": {},
   "outputs": [],
   "source": [
    "# Pascal Case\n",
    "# Test Variable Case\n",
    "TestVariableCase = 'Vanilla Swirl'"
   ]
  },
  {
   "cell_type": "code",
   "execution_count": 37,
   "id": "03043a86-a154-4d58-9095-f5486d87a9e2",
   "metadata": {},
   "outputs": [],
   "source": [
    "#Snake Case - Best one to follow and has better readability.\n",
    "# Test Variable Case\n",
    "test_variable_case = 'Vanilla Swirl'"
   ]
  },
  {
   "cell_type": "code",
   "execution_count": 39,
   "id": "484ad745-7509-418b-864a-bba1f935ee65",
   "metadata": {},
   "outputs": [],
   "source": [
    "testvar = 'Vanilla Swirl'\n",
    "test_var = 'Vanilla Swirl'\n",
    "_test_var = 'Vanilla Swirl'\n",
    "testVar = 'Vanilla Swirl'\n",
    "TestVar = 'Vanilla Swirl'\n",
    "testVar2 = 'Vanilla Swirl'"
   ]
  },
  {
   "cell_type": "code",
   "execution_count": 41,
   "id": "3636afc8-d4b2-42ce-a01b-181dbeb94529",
   "metadata": {},
   "outputs": [],
   "source": [
    "x = 'Ice Cream is my favorite' + '.'"
   ]
  },
  {
   "cell_type": "code",
   "execution_count": 43,
   "id": "213296dd-a1d5-4b32-b322-dbfc9bed3f90",
   "metadata": {},
   "outputs": [
    {
     "name": "stdout",
     "output_type": "stream",
     "text": [
      "Ice Cream is my favorite.\n"
     ]
    }
   ],
   "source": [
    "print(x)"
   ]
  },
  {
   "cell_type": "code",
   "execution_count": 45,
   "id": "8b0c5749-9f54-4a5b-a59f-f21e0eaf2f53",
   "metadata": {},
   "outputs": [
    {
     "name": "stdout",
     "output_type": "stream",
     "text": [
      "5\n"
     ]
    }
   ],
   "source": [
    "y = 3 + 2\n",
    "print(y)"
   ]
  },
  {
   "cell_type": "code",
   "execution_count": 47,
   "id": "79f30f37-f6c1-4f35-9147-1e30a754db5f",
   "metadata": {},
   "outputs": [
    {
     "name": "stdout",
     "output_type": "stream",
     "text": [
      "Ice Cream is my favorite.\n"
     ]
    }
   ],
   "source": [
    "x = 'Ice Cream'\n",
    "y = ' is'\n",
    "z = ' my favorite.'\n",
    "print(x+y+z)\n"
   ]
  },
  {
   "cell_type": "code",
   "execution_count": null,
   "id": "9a2b7f3b-1a26-480f-922b-a239a2d97a5e",
   "metadata": {},
   "outputs": [],
   "source": []
  }
 ],
 "metadata": {
  "kernelspec": {
   "display_name": "Python 3 (ipykernel)",
   "language": "python",
   "name": "python3"
  },
  "language_info": {
   "codemirror_mode": {
    "name": "ipython",
    "version": 3
   },
   "file_extension": ".py",
   "mimetype": "text/x-python",
   "name": "python",
   "nbconvert_exporter": "python",
   "pygments_lexer": "ipython3",
   "version": "3.12.7"
  }
 },
 "nbformat": 4,
 "nbformat_minor": 5
}
