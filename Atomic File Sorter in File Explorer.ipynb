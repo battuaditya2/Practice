{
 "cells": [
  {
   "cell_type": "markdown",
   "id": "754c460c-862d-4b47-ad88-e6262302da7e",
   "metadata": {},
   "source": [
    "# Automatic File Sorter in File Explorer"
   ]
  },
  {
   "cell_type": "code",
   "execution_count": 3,
   "id": "a09c7583-14e2-4043-bee2-740c89e6f363",
   "metadata": {},
   "outputs": [],
   "source": [
    "import os, shutil"
   ]
  },
  {
   "cell_type": "code",
   "execution_count": 27,
   "id": "1aec3355-7a93-4c82-9f5b-9e079cc24fe0",
   "metadata": {},
   "outputs": [],
   "source": [
    "path = r\"C:/Users/battu/Documents/Python Example/\""
   ]
  },
  {
   "cell_type": "code",
   "execution_count": 39,
   "id": "9192b9d9-3656-4c5f-890f-a91b6f5923d6",
   "metadata": {},
   "outputs": [],
   "source": [
    "file_name = os.listdir(path)"
   ]
  },
  {
   "cell_type": "code",
   "execution_count": 33,
   "id": "f8bab147-1f68-46f9-a8a8-190baa938b99",
   "metadata": {},
   "outputs": [
    {
     "name": "stdout",
     "output_type": "stream",
     "text": [
      "C:/Users/battu/Documents/Python Example/excel files\n",
      "C:/Users/battu/Documents/Python Example/image files\n",
      "C:/Users/battu/Documents/Python Example/text files\n"
     ]
    }
   ],
   "source": [
    "folder_names = ['excel files','image files','text files']\n",
    "\n",
    "for loop in range(0,3):\n",
    "    if not os.path.exists(path + folder_names[loop]):\n",
    "        print((path + folder_names[loop]))\n",
    "        os.makedirs((path + folder_names[loop]))"
   ]
  },
  {
   "cell_type": "code",
   "execution_count": 45,
   "id": "a5d88731-d370-4d07-928d-143f1c9c7746",
   "metadata": {},
   "outputs": [
    {
     "name": "stdout",
     "output_type": "stream",
     "text": [
      "These are files in this path that are not moved!\n",
      "These are files in this path that are not moved!\n",
      "These are files in this path that are not moved!\n",
      "These are files in this path that are not moved!\n",
      "These are files in this path that are not moved!\n",
      "These are files in this path that are not moved!\n"
     ]
    }
   ],
   "source": [
    "for file in file_name:\n",
    "    if '.xlsx' in file and not os.path.exists(path + 'excel files/' + file):\n",
    "        shutil.move(path + file, path + 'excel files/' + file)\n",
    "    elif '.jpg' in file and not os.path.exists(path + 'image files/' + file):\n",
    "        shutil.move(path + file, path + 'image files/' + file)\n",
    "    elif '.jpeg' in file and not os.path.exists(path + 'image files/' + file):\n",
    "        shutil.move(path + file, path + 'image files/' + file)\n",
    "    elif '.txt' in file and not os.path.exists(path + 'text files/' + file):\n",
    "        shutil.move(path + file, path + 'text files/' + file)\n",
    "    else:\n",
    "        print('These are files in this path that are not moved!')"
   ]
  },
  {
   "cell_type": "code",
   "execution_count": null,
   "id": "2fc2ee1e-b631-4bc9-8357-308dc63951be",
   "metadata": {},
   "outputs": [],
   "source": []
  },
  {
   "cell_type": "code",
   "execution_count": null,
   "id": "9a9789a8-d75d-487f-aed6-76adeb6abfad",
   "metadata": {},
   "outputs": [],
   "source": []
  },
  {
   "cell_type": "code",
   "execution_count": null,
   "id": "97cf0cf9-9a2f-4fb0-9843-8b86e43b25ba",
   "metadata": {},
   "outputs": [],
   "source": []
  },
  {
   "cell_type": "code",
   "execution_count": null,
   "id": "72fd3cf3-92d0-44a1-b123-052ba6dfd253",
   "metadata": {},
   "outputs": [],
   "source": []
  }
 ],
 "metadata": {
  "kernelspec": {
   "display_name": "Python 3 (ipykernel)",
   "language": "python",
   "name": "python3"
  },
  "language_info": {
   "codemirror_mode": {
    "name": "ipython",
    "version": 3
   },
   "file_extension": ".py",
   "mimetype": "text/x-python",
   "name": "python",
   "nbconvert_exporter": "python",
   "pygments_lexer": "ipython3",
   "version": "3.12.7"
  }
 },
 "nbformat": 4,
 "nbformat_minor": 5
}
